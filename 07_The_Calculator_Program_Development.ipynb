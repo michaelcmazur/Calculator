{
  "nbformat": 4,
  "nbformat_minor": 0,
  "metadata": {
    "colab": {
      "provenance": [],
      "include_colab_link": true
    },
    "kernelspec": {
      "name": "python3",
      "display_name": "Python 3"
    },
    "language_info": {
      "name": "python"
    }
  },
  "cells": [
    {
      "cell_type": "markdown",
      "metadata": {
        "id": "view-in-github",
        "colab_type": "text"
      },
      "source": [
        "<a href=\"https://colab.research.google.com/github/michaelcmazur/Calculator/blob/main/07_The_Calculator_Program_Development.ipynb\" target=\"_parent\"><img src=\"https://colab.research.google.com/assets/colab-badge.svg\" alt=\"Open In Colab\"/></a>"
      ]
    },
    {
      "cell_type": "markdown",
      "source": [
        "#The Calculator\n",
        "This notebook is an exercise in programming to help hone your skills through practice and repetition.\n",
        "\n",
        "## What are *our* Best Practices\n",
        "\n",
        "Here are the best practices we have been applying throughout the course.\n",
        "\n",
        "1. Use a code repository (*GitHub, small frequent commits*)\n",
        "2. Follow style guidelines (*PEP8*)\n",
        "3. Correct broken code immediately (*exception handling, input validation, testing*)\n",
        "4. Use the PyPI instead of doing it yourself (*search and import module*)\n",
        "5. Use the Right Data Types and Structures (*int, float, list, etc. *)\n",
        "6. Write Readable Code (*meaningful names and comments*)\n",
        "7. Create readable documentation (*Docstrings*)\n",
        "8. Use Virtual Environments (*Google VM instance, Binder*)\n",
        "9. Avoid anti-patterns (*be specific imports, exceptions etc. *)\n",
        "10. Follow *Zen of Python* (try *`import this`*)"
      ],
      "metadata": {
        "id": "in2iZP7A1rNP"
      }
    },
    {
      "cell_type": "markdown",
      "source": [
        "## The Challenge - Simple Calculator\n",
        "\n",
        "Write a program to prompt the user to select a mathematical operation and input two numbers. The program will then operate on the two numbers and output the result. The user will be able to continue performing operations on numbers or exit the program. The arithmetic operations include: \n",
        "* addition, \n",
        "* subtraction, \n",
        "* multiplication, and \n",
        "* division. \n",
        "\n",
        "Let's review the *Zen of Python*.  Run the following code cell"
      ],
      "metadata": {
        "id": "6McFoWcj2AUu"
      }
    },
    {
      "cell_type": "code",
      "execution_count": null,
      "metadata": {
        "id": "H_kOZrGM1e38",
        "colab": {
          "base_uri": "https://localhost:8080/"
        },
        "outputId": "52f69f7a-6b61-4ab0-80d1-0897a01edb77"
      },
      "outputs": [
        {
          "output_type": "stream",
          "name": "stdout",
          "text": [
            "The Zen of Python, by Tim Peters\n",
            "\n",
            "Beautiful is better than ugly.\n",
            "Explicit is better than implicit.\n",
            "Simple is better than complex.\n",
            "Complex is better than complicated.\n",
            "Flat is better than nested.\n",
            "Sparse is better than dense.\n",
            "Readability counts.\n",
            "Special cases aren't special enough to break the rules.\n",
            "Although practicality beats purity.\n",
            "Errors should never pass silently.\n",
            "Unless explicitly silenced.\n",
            "In the face of ambiguity, refuse the temptation to guess.\n",
            "There should be one-- and preferably only one --obvious way to do it.\n",
            "Although that way may not be obvious at first unless you're Dutch.\n",
            "Now is better than never.\n",
            "Although never is often better than *right* now.\n",
            "If the implementation is hard to explain, it's a bad idea.\n",
            "If the implementation is easy to explain, it may be a good idea.\n",
            "Namespaces are one honking great idea -- let's do more of those!\n"
          ]
        }
      ],
      "source": [
        "import this"
      ]
    },
    {
      "cell_type": "markdown",
      "source": [
        "# Step 0 - Create code repository\n",
        "\n",
        "All projects need a project folder. Use the code repository to store the project. Go to GitHub, create a new repository with a meaningful name, like calculator, and add a README. Adding a readme file will initialise the repository. Initialising is *critical* and will make it easy to add files later.\n",
        "\n",
        "This notebook assumes we use Google Colab as the Integrated Development Environment (IDE). For our workflow and easy integration with the IDE, tick the box \"Include a link to Colaboratory\".\n",
        "\n",
        "This notebook will have small and frequent commits (Best Practice #1). You can look at the history of the notebook to view the commits."
      ],
      "metadata": {
        "id": "JqQiweAm3ENv"
      }
    },
    {
      "cell_type": "markdown",
      "source": [
        "# The Design - Algorithm/Pseudocode"
      ],
      "metadata": {
        "id": "Ogxm2XmL3ulZ"
      }
    },
    {
      "cell_type": "markdown",
      "source": [
        "# Step 1"
      ],
      "metadata": {
        "id": "XtuECEeh7iL4"
      }
    },
    {
      "cell_type": "code",
      "source": [],
      "metadata": {
        "id": "Yj4JCiYaL5dU"
      },
      "execution_count": 1,
      "outputs": []
    },
    {
      "cell_type": "code",
      "source": [
        "# Create list of operands \n",
        "oplist = ['+','-', '/', '*']\n",
        "from traitlets.traitlets import Float\n",
        "#loop if character chosen is not in oplist\n",
        "while True:\n",
        "  # get operator input\n",
        "  operand = input('Please choose an operation: (+ - / *) ')\n",
        "  if operand in oplist:\n",
        "    break\n",
        "  else:\n",
        "    print('You must choose a valid operation')\n",
        "\n",
        "#### Get numbers ###\n",
        "while True:\n",
        "  # Get first number and find out if input is a float\n",
        "  try:\n",
        "    num1 = float(input('Please enter a number: '))\n",
        "    break\n",
        "# If input is not float, try again\n",
        "  except:\n",
        "    print('Entry must be a number.  Please try again.')\n",
        "  \n",
        "while True:\n",
        "  # Get second number and find out if input is a float\n",
        "  try:\n",
        "    num2 = float(input('Please enter another number: '))\n",
        "    break\n",
        "# If input is not float, try again\n",
        "  except:\n",
        "    print('Entry must be a number.  Please try again.')\n",
        "\n",
        "# Perform selected operation\n",
        "if operand == '+':\n",
        "  result = num1 + num2\n",
        "elif operand == \"-\":\n",
        "  result = num1 - num2\n",
        "elif operand == '/':\n",
        "  result = num1 / num2\n",
        "else:\n",
        "  result = num1 * num2\n",
        "print(num1, operand, num2,\"=\", result)"
      ],
      "metadata": {
        "colab": {
          "base_uri": "https://localhost:8080/"
        },
        "id": "WDXrICSoDZ2D",
        "outputId": "41e76203-65c8-43fb-b8da-d1e7d1a6b715"
      },
      "execution_count": 10,
      "outputs": [
        {
          "output_type": "stream",
          "name": "stdout",
          "text": [
            "Please choose an operation: (+ - / *) *\n",
            "Please enter a number: 40\n",
            "Please enter another number: 20\n",
            "40.0 * 20.0 = 800.0\n"
          ]
        }
      ]
    },
    {
      "cell_type": "code",
      "source": [
        "def get_numbers():\n",
        "  '''This function will prompt to enter an operand.'''\n",
        "  # Create list of operands \n",
        "  oplist = ['+','-', '/', '*']\n",
        "  from traitlets.traitlets import Float\n",
        "  #loop if character chosen is not in oplist\n",
        "  while True:\n",
        "    # get operator input\n",
        "    operand = input('Please choose an operation: (+ - / *) ')\n",
        "    if operand in oplist:\n",
        "      break\n",
        "    else:\n",
        "      print('You must choose a valid operation')\n",
        "\n",
        "  #### Get numbers ###\n",
        "  while True:\n",
        "    # Get first number and find out if input is a float\n",
        "    try:\n",
        "      num1 = float(input('Please enter a number: '))\n",
        "      break\n",
        "  # If input is not float, try again\n",
        "    except:\n",
        "      print('Entry must be a number.  Please try again.')\n",
        "    \n",
        "  while True:\n",
        "    # Get second number and find out if input is a float\n",
        "    try:\n",
        "      num2 = float(input('Please enter another number: '))\n",
        "      break\n",
        "  # If input is not float, try again\n",
        "    except:\n",
        "      print('Entry must be a number.  Please try again.')\n",
        "\n",
        "  # Perform selected operation\n",
        "  if operand == '+':\n",
        "    result = num1 + num2\n",
        "  elif operand == \"-\":\n",
        "    result = num1 - num2\n",
        "  elif operand == '/':\n",
        "    result = num1 / num2\n",
        "  else:\n",
        "    result = num1 * num2\n",
        "  print(num1, operand, num2,\"=\", result)\n",
        "  return num1, num2, result, operand, oplist\n",
        "   \n",
        "\n",
        "\n"
      ],
      "metadata": {
        "id": "ER_cqkfFgtn3"
      },
      "execution_count": 24,
      "outputs": []
    },
    {
      "cell_type": "code",
      "source": [],
      "metadata": {
        "id": "P4fBX8kS8c-e",
        "outputId": "02df2f77-7e4c-444f-ff25-896f394e6f37",
        "colab": {
          "base_uri": "https://localhost:8080/",
          "height": 183
        }
      },
      "execution_count": 26,
      "outputs": [
        {
          "output_type": "error",
          "ename": "NameError",
          "evalue": "ignored",
          "traceback": [
            "\u001b[0;31m---------------------------------------------------------------------------\u001b[0m",
            "\u001b[0;31mNameError\u001b[0m                                 Traceback (most recent call last)",
            "\u001b[0;32m<ipython-input-26-f721cb0e48a3>\u001b[0m in \u001b[0;36m<module>\u001b[0;34m\u001b[0m\n\u001b[0;32m----> 1\u001b[0;31m \u001b[0myes_list\u001b[0m \u001b[0;34m=\u001b[0m \u001b[0;34m[\u001b[0m\u001b[0mY\u001b[0m\u001b[0;34m,\u001b[0m\u001b[0my\u001b[0m\u001b[0;34m,\u001b[0m\u001b[0myes\u001b[0m\u001b[0;34m,\u001b[0m\u001b[0mYes\u001b[0m\u001b[0;34m,\u001b[0m\u001b[0mYES\u001b[0m\u001b[0;34m,\u001b[0m\u001b[0mYEs\u001b[0m\u001b[0;34m,\u001b[0m\u001b[0mYeS\u001b[0m\u001b[0;34m,\u001b[0m\u001b[0myeS\u001b[0m\u001b[0;34m,\u001b[0m\u001b[0myES\u001b[0m\u001b[0;34m,\u001b[0m\u001b[0mYeS\u001b[0m\u001b[0;34m]\u001b[0m\u001b[0;34m\u001b[0m\u001b[0;34m\u001b[0m\u001b[0m\n\u001b[0m\u001b[1;32m      2\u001b[0m \u001b[0mno_list\u001b[0m \u001b[0;34m=\u001b[0m \u001b[0;34m[\u001b[0m\u001b[0mN\u001b[0m\u001b[0;34m,\u001b[0m\u001b[0mn\u001b[0m\u001b[0;34m,\u001b[0m\u001b[0mno\u001b[0m\u001b[0;34m,\u001b[0m\u001b[0mNo\u001b[0m\u001b[0;34m,\u001b[0m\u001b[0mNO\u001b[0m\u001b[0;34m,\u001b[0m\u001b[0mnO\u001b[0m\u001b[0;34m]\u001b[0m\u001b[0;34m\u001b[0m\u001b[0;34m\u001b[0m\u001b[0m\n",
            "\u001b[0;31mNameError\u001b[0m: name 'Y' is not defined"
          ]
        }
      ]
    },
    {
      "cell_type": "code",
      "source": [
        "while True:\n",
        "  num1, num2, result, operand, oplist = get_numbers()\n",
        "  repeat = input('Would you like to do this again? Yes or No:')\n",
        "  yesorno = repeat[0]\n",
        "  if yesorno.lower() == 'n':\n",
        "    break\n",
        "  elif yesorno.lower() == 'y':\n",
        "    num1, num2, result, operand, oplist = get_numbers()\n",
        "  else:\n",
        "    print('Invalid entry. Please enter Yes or No.')"
      ],
      "metadata": {
        "id": "K_PkfqSg3w30",
        "outputId": "2536d161-a7f2-4bc7-9465-d764ed5abf96",
        "colab": {
          "base_uri": "https://localhost:8080/"
        }
      },
      "execution_count": 38,
      "outputs": [
        {
          "name": "stdout",
          "output_type": "stream",
          "text": [
            "Please choose an operation: (+ - / *) +\n",
            "Please enter a number: 45\n",
            "Please enter another number: 95\n",
            "45.0 + 95.0 = 140.0\n",
            "Would you like to do this again? Yes or No:n\n"
          ]
        }
      ]
    },
    {
      "cell_type": "code",
      "source": [],
      "metadata": {
        "id": "fVBPtG_XExff"
      },
      "execution_count": null,
      "outputs": []
    },
    {
      "cell_type": "markdown",
      "source": [],
      "metadata": {
        "id": "8qA9jqYwL8lS"
      }
    },
    {
      "cell_type": "markdown",
      "source": [],
      "metadata": {
        "id": "wZl6VHA1L8gq"
      }
    },
    {
      "cell_type": "code",
      "source": [],
      "metadata": {
        "id": "_FEytXJcL75X"
      },
      "execution_count": null,
      "outputs": []
    },
    {
      "cell_type": "code",
      "source": [],
      "metadata": {
        "id": "JS5_MR8bL70c"
      },
      "execution_count": null,
      "outputs": []
    },
    {
      "cell_type": "markdown",
      "source": [
        "# Step 2"
      ],
      "metadata": {
        "id": "-eBvNsXb7jwJ"
      }
    },
    {
      "cell_type": "markdown",
      "source": [
        "#Step x"
      ],
      "metadata": {
        "id": "Qr8QT_JA7lnB"
      }
    },
    {
      "cell_type": "markdown",
      "source": [
        "# Testing\n",
        "\n",
        "Now using the test-cases from design, test the program.\n",
        "\n",
        "\n",
        "\n",
        "# Development versus Production\n",
        "\n",
        "This notebook is not ready to be shared.  As an instructional tool, it serves to show the development process.  If you wanted to distribute the notebook, you would delete all unnecessary cells and text or create a new notebook with some introductory text and the program.\n",
        "\n"
      ],
      "metadata": {
        "id": "kX_5XB0H7ysR"
      }
    }
  ]
}